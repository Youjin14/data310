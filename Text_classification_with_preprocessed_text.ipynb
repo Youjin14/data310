{
  "nbformat": 4,
  "nbformat_minor": 0,
  "metadata": {
    "colab": {
      "name": "Text classification with preprocessed text.ipynb",
      "provenance": [],
      "authorship_tag": "ABX9TyPyZQX3MXpVCjeT4Cz3rXTr",
      "include_colab_link": true
    },
    "kernelspec": {
      "name": "python3",
      "display_name": "Python 3"
    }
  },
  "cells": [
    {
      "cell_type": "markdown",
      "metadata": {
        "id": "view-in-github",
        "colab_type": "text"
      },
      "source": [
        "<a href=\"https://colab.research.google.com/github/Youjin14/data310/blob/master/Text_classification_with_preprocessed_text.ipynb\" target=\"_parent\"><img src=\"https://colab.research.google.com/assets/colab-badge.svg\" alt=\"Open In Colab\"/></a>"
      ]
    },
    {
      "cell_type": "code",
      "metadata": {
        "id": "00utiBswVFVf",
        "colab_type": "code",
        "colab": {
          "base_uri": "https://localhost:8080/",
          "height": 34
        },
        "outputId": "38b77c7f-dea0-4b6c-c2a2-a2653d570036"
      },
      "source": [
        "import tensorflow as tf\n",
        "\n",
        "from tensorflow import keras\n",
        "\n",
        "import tensorflow_datasets as tfds\n",
        "tfds.disable_progress_bar()\n",
        "\n",
        "import numpy as np\n",
        "\n",
        "print(tf.__version__)"
      ],
      "execution_count": 1,
      "outputs": [
        {
          "output_type": "stream",
          "text": [
            "2.2.0\n"
          ],
          "name": "stdout"
        }
      ]
    },
    {
      "cell_type": "code",
      "metadata": {
        "id": "IiNW-HwgVgnX",
        "colab_type": "code",
        "colab": {
          "base_uri": "https://localhost:8080/",
          "height": 122
        },
        "outputId": "e2666c7c-5b2d-4b1c-b656-0bef81d951fc"
      },
      "source": [
        "(train_data, test_data), info = tfds.load(\n",
        "    # Use the version pre-encoded with an ~8k vocabulary.\n",
        "    'imdb_reviews/subwords8k', \n",
        "    # Return the train/test datasets as a tuple.\n",
        "    split = (tfds.Split.TRAIN, tfds.Split.TEST),\n",
        "    # Return (example, label) pairs from the dataset (instead of a dictionary).\n",
        "    as_supervised=True,\n",
        "    # Also return the `info` structure. \n",
        "    with_info=True)"
      ],
      "execution_count": 6,
      "outputs": [
        {
          "output_type": "stream",
          "text": [
            "\u001b[1mDownloading and preparing dataset imdb_reviews/subwords8k/1.0.0 (download: 80.23 MiB, generated: Unknown size, total: 80.23 MiB) to /root/tensorflow_datasets/imdb_reviews/subwords8k/1.0.0...\u001b[0m\n",
            "Shuffling and writing examples to /root/tensorflow_datasets/imdb_reviews/subwords8k/1.0.0.incompleteHWHEZW/imdb_reviews-train.tfrecord\n",
            "Shuffling and writing examples to /root/tensorflow_datasets/imdb_reviews/subwords8k/1.0.0.incompleteHWHEZW/imdb_reviews-test.tfrecord\n",
            "Shuffling and writing examples to /root/tensorflow_datasets/imdb_reviews/subwords8k/1.0.0.incompleteHWHEZW/imdb_reviews-unsupervised.tfrecord\n",
            "\u001b[1mDataset imdb_reviews downloaded and prepared to /root/tensorflow_datasets/imdb_reviews/subwords8k/1.0.0. Subsequent calls will reuse this data.\u001b[0m\n"
          ],
          "name": "stdout"
        }
      ]
    },
    {
      "cell_type": "code",
      "metadata": {
        "id": "BDvfLQADVmr2",
        "colab_type": "code",
        "colab": {
          "base_uri": "https://localhost:8080/",
          "height": 34
        },
        "outputId": "53c5ee5e-1b8c-4a0b-8120-5ebb9b86c0a8"
      },
      "source": [
        "encoder = info.features['text'].encoder\n",
        "print ('Vocabulary size: {}'.format(encoder.vocab_size))"
      ],
      "execution_count": 7,
      "outputs": [
        {
          "output_type": "stream",
          "text": [
            "Vocabulary size: 8185\n"
          ],
          "name": "stdout"
        }
      ]
    },
    {
      "cell_type": "code",
      "metadata": {
        "id": "vdTFCpUrWFHZ",
        "colab_type": "code",
        "colab": {
          "base_uri": "https://localhost:8080/",
          "height": 51
        },
        "outputId": "ccc3883f-41b9-4c09-80e6-df7063ad1cf0"
      },
      "source": [
        "sample_string = 'Hello TensorFlow.'\n",
        "\n",
        "encoded_string = encoder.encode(sample_string)\n",
        "print ('Encoded string is {}'.format(encoded_string))\n",
        "\n",
        "original_string = encoder.decode(encoded_string)\n",
        "print ('The original string: \"{}\"'.format(original_string))\n",
        "\n",
        "assert original_string == sample_string"
      ],
      "execution_count": 8,
      "outputs": [
        {
          "output_type": "stream",
          "text": [
            "Encoded string is [4025, 222, 6307, 2327, 4043, 2120, 7975]\n",
            "The original string: \"Hello TensorFlow.\"\n"
          ],
          "name": "stdout"
        }
      ]
    },
    {
      "cell_type": "code",
      "metadata": {
        "id": "qHMZqjfNWFnT",
        "colab_type": "code",
        "colab": {
          "base_uri": "https://localhost:8080/",
          "height": 136
        },
        "outputId": "abd61d6b-5637-424e-99ba-18d55442f692"
      },
      "source": [
        "for ts in encoded_string:\n",
        "  print ('{} ----> {}'.format(ts, encoder.decode([ts])))"
      ],
      "execution_count": 9,
      "outputs": [
        {
          "output_type": "stream",
          "text": [
            "4025 ----> Hell\n",
            "222 ----> o \n",
            "6307 ----> Ten\n",
            "2327 ----> sor\n",
            "4043 ----> Fl\n",
            "2120 ----> ow\n",
            "7975 ----> .\n"
          ],
          "name": "stdout"
        }
      ]
    },
    {
      "cell_type": "code",
      "metadata": {
        "id": "vmLGaBWeWNaO",
        "colab_type": "code",
        "colab": {
          "base_uri": "https://localhost:8080/",
          "height": 51
        },
        "outputId": "432d1a6f-bc12-4010-ffc3-cafbec454bc6"
      },
      "source": [
        "for train_example, train_label in train_data.take(1):\n",
        "  print('Encoded text:', train_example[:10].numpy())\n",
        "  print('Label:', train_label.numpy())"
      ],
      "execution_count": 10,
      "outputs": [
        {
          "output_type": "stream",
          "text": [
            "Encoded text: [  62   18   41  604  927   65    3  644 7968   21]\n",
            "Label: 0\n"
          ],
          "name": "stdout"
        }
      ]
    },
    {
      "cell_type": "code",
      "metadata": {
        "id": "0A1zPYv_WP1D",
        "colab_type": "code",
        "colab": {
          "base_uri": "https://localhost:8080/",
          "height": 103
        },
        "outputId": "3b8d3922-2996-4685-d1e4-188f3bdf8713"
      },
      "source": [
        "encoder.decode(train_example)"
      ],
      "execution_count": 11,
      "outputs": [
        {
          "output_type": "execute_result",
          "data": {
            "application/vnd.google.colaboratory.intrinsic": {
              "type": "string"
            },
            "text/plain": [
              "\"This was an absolutely terrible movie. Don't be lured in by Christopher Walken or Michael Ironside. Both are great actors, but this must simply be their worst role in history. Even their great acting could not redeem this movie's ridiculous storyline. This movie is an early nineties US propaganda piece. The most pathetic scenes were those when the Columbian rebels were making their cases for revolutions. Maria Conchita Alonso appeared phony, and her pseudo-love affair with Walken was nothing but a pathetic emotional plug in a movie that was devoid of any real meaning. I am disappointed that there are movies like this, ruining actor's like Christopher Walken's good name. I could barely sit through it.\""
            ]
          },
          "metadata": {
            "tags": []
          },
          "execution_count": 11
        }
      ]
    },
    {
      "cell_type": "code",
      "metadata": {
        "id": "7qUJeKsVWSL_",
        "colab_type": "code",
        "colab": {}
      },
      "source": [
        "BUFFER_SIZE = 1000\n",
        "\n",
        "train_batches = (\n",
        "    train_data\n",
        "    .shuffle(BUFFER_SIZE)\n",
        "    .padded_batch(32))\n",
        "\n",
        "test_batches = (\n",
        "    test_data\n",
        "    .padded_batch(32))"
      ],
      "execution_count": 12,
      "outputs": []
    },
    {
      "cell_type": "code",
      "metadata": {
        "id": "ADGeWVhyWUUK",
        "colab_type": "code",
        "colab": {
          "base_uri": "https://localhost:8080/",
          "height": 85
        },
        "outputId": "94eb9f2a-5e1e-4b35-b9ea-bf2f17960d1e"
      },
      "source": [
        "for example_batch, label_batch in train_batches.take(2):\n",
        "  print(\"Batch shape:\", example_batch.shape)\n",
        "  print(\"label shape:\", label_batch.shape)"
      ],
      "execution_count": 13,
      "outputs": [
        {
          "output_type": "stream",
          "text": [
            "Batch shape: (32, 1357)\n",
            "label shape: (32,)\n",
            "Batch shape: (32, 1082)\n",
            "label shape: (32,)\n"
          ],
          "name": "stdout"
        }
      ]
    },
    {
      "cell_type": "code",
      "metadata": {
        "id": "pU5eUTRpWXYc",
        "colab_type": "code",
        "colab": {
          "base_uri": "https://localhost:8080/",
          "height": 255
        },
        "outputId": "389ac178-a3b4-4576-a744-e01afa7d025d"
      },
      "source": [
        "model = keras.Sequential([\n",
        "  keras.layers.Embedding(encoder.vocab_size, 16),\n",
        "  keras.layers.GlobalAveragePooling1D(),\n",
        "  keras.layers.Dense(1)])\n",
        "\n",
        "model.summary()"
      ],
      "execution_count": 14,
      "outputs": [
        {
          "output_type": "stream",
          "text": [
            "Model: \"sequential\"\n",
            "_________________________________________________________________\n",
            "Layer (type)                 Output Shape              Param #   \n",
            "=================================================================\n",
            "embedding (Embedding)        (None, None, 16)          130960    \n",
            "_________________________________________________________________\n",
            "global_average_pooling1d (Gl (None, 16)                0         \n",
            "_________________________________________________________________\n",
            "dense (Dense)                (None, 1)                 17        \n",
            "=================================================================\n",
            "Total params: 130,977\n",
            "Trainable params: 130,977\n",
            "Non-trainable params: 0\n",
            "_________________________________________________________________\n"
          ],
          "name": "stdout"
        }
      ]
    },
    {
      "cell_type": "code",
      "metadata": {
        "id": "7pRIUo7KWZWK",
        "colab_type": "code",
        "colab": {}
      },
      "source": [
        "model.compile(optimizer='adam',\n",
        "              loss=tf.losses.BinaryCrossentropy(from_logits=True),\n",
        "              metrics=['accuracy'])"
      ],
      "execution_count": 15,
      "outputs": []
    },
    {
      "cell_type": "code",
      "metadata": {
        "id": "X7kmkgiJWddR",
        "colab_type": "code",
        "colab": {
          "base_uri": "https://localhost:8080/",
          "height": 1000
        },
        "outputId": "f92af531-1998-4427-f652-fe3a975e4eab"
      },
      "source": [
        "history = model.fit(train_batches,\n",
        "                    epochs=30,\n",
        "                    validation_data=test_batches,\n",
        "                    validation_steps=30)"
      ],
      "execution_count": 16,
      "outputs": [
        {
          "output_type": "stream",
          "text": [
            "Epoch 1/30\n",
            "782/782 [==============================] - 7s 9ms/step - loss: 0.6818 - accuracy: 0.5002 - val_loss: 0.6653 - val_accuracy: 0.5052\n",
            "Epoch 2/30\n",
            "782/782 [==============================] - 7s 9ms/step - loss: 0.6233 - accuracy: 0.5502 - val_loss: 0.5970 - val_accuracy: 0.6021\n",
            "Epoch 3/30\n",
            "782/782 [==============================] - 7s 9ms/step - loss: 0.5447 - accuracy: 0.6594 - val_loss: 0.5349 - val_accuracy: 0.6927\n",
            "Epoch 4/30\n",
            "782/782 [==============================] - 7s 9ms/step - loss: 0.4788 - accuracy: 0.7450 - val_loss: 0.4860 - val_accuracy: 0.7854\n",
            "Epoch 5/30\n",
            "782/782 [==============================] - 7s 10ms/step - loss: 0.4253 - accuracy: 0.8006 - val_loss: 0.4471 - val_accuracy: 0.8104\n",
            "Epoch 6/30\n",
            "782/782 [==============================] - 7s 9ms/step - loss: 0.3836 - accuracy: 0.8305 - val_loss: 0.4193 - val_accuracy: 0.8417\n",
            "Epoch 7/30\n",
            "782/782 [==============================] - 7s 9ms/step - loss: 0.3514 - accuracy: 0.8515 - val_loss: 0.3975 - val_accuracy: 0.8406\n",
            "Epoch 8/30\n",
            "782/782 [==============================] - 7s 9ms/step - loss: 0.3251 - accuracy: 0.8666 - val_loss: 0.3824 - val_accuracy: 0.8490\n",
            "Epoch 9/30\n",
            "782/782 [==============================] - 7s 9ms/step - loss: 0.3058 - accuracy: 0.8783 - val_loss: 0.3713 - val_accuracy: 0.8490\n",
            "Epoch 10/30\n",
            "782/782 [==============================] - 7s 9ms/step - loss: 0.2882 - accuracy: 0.8848 - val_loss: 0.3637 - val_accuracy: 0.8656\n",
            "Epoch 11/30\n",
            "782/782 [==============================] - 7s 9ms/step - loss: 0.2727 - accuracy: 0.8927 - val_loss: 0.3567 - val_accuracy: 0.8490\n",
            "Epoch 12/30\n",
            "782/782 [==============================] - 7s 9ms/step - loss: 0.2602 - accuracy: 0.8990 - val_loss: 0.3508 - val_accuracy: 0.8635\n",
            "Epoch 13/30\n",
            "782/782 [==============================] - 7s 9ms/step - loss: 0.2484 - accuracy: 0.9040 - val_loss: 0.3476 - val_accuracy: 0.8625\n",
            "Epoch 14/30\n",
            "782/782 [==============================] - 7s 9ms/step - loss: 0.2388 - accuracy: 0.9087 - val_loss: 0.3453 - val_accuracy: 0.8667\n",
            "Epoch 15/30\n",
            "782/782 [==============================] - 7s 9ms/step - loss: 0.2286 - accuracy: 0.9117 - val_loss: 0.3431 - val_accuracy: 0.8667\n",
            "Epoch 16/30\n",
            "782/782 [==============================] - 7s 9ms/step - loss: 0.2198 - accuracy: 0.9162 - val_loss: 0.3433 - val_accuracy: 0.8646\n",
            "Epoch 17/30\n",
            "782/782 [==============================] - 7s 9ms/step - loss: 0.2150 - accuracy: 0.9183 - val_loss: 0.3409 - val_accuracy: 0.8667\n",
            "Epoch 18/30\n",
            "782/782 [==============================] - 7s 9ms/step - loss: 0.2075 - accuracy: 0.9218 - val_loss: 0.3429 - val_accuracy: 0.8677\n",
            "Epoch 19/30\n",
            "782/782 [==============================] - 7s 9ms/step - loss: 0.2009 - accuracy: 0.9242 - val_loss: 0.3418 - val_accuracy: 0.8729\n",
            "Epoch 20/30\n",
            "782/782 [==============================] - 7s 9ms/step - loss: 0.1935 - accuracy: 0.9262 - val_loss: 0.3434 - val_accuracy: 0.8677\n",
            "Epoch 21/30\n",
            "782/782 [==============================] - 7s 9ms/step - loss: 0.1887 - accuracy: 0.9301 - val_loss: 0.3466 - val_accuracy: 0.8677\n",
            "Epoch 22/30\n",
            "782/782 [==============================] - 7s 9ms/step - loss: 0.1810 - accuracy: 0.9319 - val_loss: 0.3497 - val_accuracy: 0.8656\n",
            "Epoch 23/30\n",
            "782/782 [==============================] - 7s 9ms/step - loss: 0.1787 - accuracy: 0.9351 - val_loss: 0.3572 - val_accuracy: 0.8594\n",
            "Epoch 24/30\n",
            "782/782 [==============================] - 7s 9ms/step - loss: 0.1728 - accuracy: 0.9359 - val_loss: 0.3517 - val_accuracy: 0.8646\n",
            "Epoch 25/30\n",
            "782/782 [==============================] - 7s 9ms/step - loss: 0.1680 - accuracy: 0.9388 - val_loss: 0.3548 - val_accuracy: 0.8729\n",
            "Epoch 26/30\n",
            "782/782 [==============================] - 7s 9ms/step - loss: 0.1650 - accuracy: 0.9395 - val_loss: 0.3565 - val_accuracy: 0.8687\n",
            "Epoch 27/30\n",
            "782/782 [==============================] - 7s 9ms/step - loss: 0.1601 - accuracy: 0.9428 - val_loss: 0.3601 - val_accuracy: 0.8708\n",
            "Epoch 28/30\n",
            "782/782 [==============================] - 7s 9ms/step - loss: 0.1555 - accuracy: 0.9430 - val_loss: 0.3642 - val_accuracy: 0.8719\n",
            "Epoch 29/30\n",
            "782/782 [==============================] - 7s 9ms/step - loss: 0.1514 - accuracy: 0.9458 - val_loss: 0.3675 - val_accuracy: 0.8594\n",
            "Epoch 30/30\n",
            "782/782 [==============================] - 7s 9ms/step - loss: 0.1483 - accuracy: 0.9468 - val_loss: 0.3703 - val_accuracy: 0.8656\n"
          ],
          "name": "stdout"
        }
      ]
    },
    {
      "cell_type": "code",
      "metadata": {
        "id": "sy3REATUWe3T",
        "colab_type": "code",
        "colab": {
          "base_uri": "https://localhost:8080/",
          "height": 68
        },
        "outputId": "1ee4986c-a0de-408b-edcf-99fb0d7169da"
      },
      "source": [
        "loss, accuracy = model.evaluate(test_batches)\n",
        "\n",
        "print(\"Loss: \", loss)\n",
        "print(\"Accuracy: \", accuracy)"
      ],
      "execution_count": 17,
      "outputs": [
        {
          "output_type": "stream",
          "text": [
            "782/782 [==============================] - 4s 5ms/step - loss: 0.3348 - accuracy: 0.8764\n",
            "Loss:  0.33478543162345886\n",
            "Accuracy:  0.8763599991798401\n"
          ],
          "name": "stdout"
        }
      ]
    },
    {
      "cell_type": "code",
      "metadata": {
        "id": "B07HACZ8Xbnl",
        "colab_type": "code",
        "colab": {
          "base_uri": "https://localhost:8080/",
          "height": 34
        },
        "outputId": "a2e27ff6-9439-46e6-e278-9626fcef5895"
      },
      "source": [
        "history_dict = history.history\n",
        "history_dict.keys()"
      ],
      "execution_count": 18,
      "outputs": [
        {
          "output_type": "execute_result",
          "data": {
            "text/plain": [
              "dict_keys(['loss', 'accuracy', 'val_loss', 'val_accuracy'])"
            ]
          },
          "metadata": {
            "tags": []
          },
          "execution_count": 18
        }
      ]
    },
    {
      "cell_type": "code",
      "metadata": {
        "id": "e_7RGiuCXsNO",
        "colab_type": "code",
        "colab": {
          "base_uri": "https://localhost:8080/",
          "height": 295
        },
        "outputId": "1d47fc1c-e137-408c-c63d-112ffefdcfcf"
      },
      "source": [
        "import matplotlib.pyplot as plt\n",
        "\n",
        "acc = history_dict['accuracy']\n",
        "val_acc = history_dict['val_accuracy']\n",
        "loss = history_dict['loss']\n",
        "val_loss = history_dict['val_loss']\n",
        "\n",
        "epochs = range(1, len(acc) + 1)\n",
        "\n",
        "# \"bo\" is for \"blue dot\"\n",
        "plt.plot(epochs, loss, 'bo', label='Training loss')\n",
        "# b is for \"solid blue line\"\n",
        "plt.plot(epochs, val_loss, 'b', label='Validation loss')\n",
        "plt.title('Training and validation loss')\n",
        "plt.xlabel('Epochs')\n",
        "plt.ylabel('Loss')\n",
        "plt.legend()\n",
        "\n",
        "plt.show()"
      ],
      "execution_count": 19,
      "outputs": [
        {
          "output_type": "display_data",
          "data": {
            "image/png": "[encoded data removed]",
            "text/plain": [
              "<Figure size 432x288 with 1 Axes>"
            ]
          },
          "metadata": {
            "tags": [],
            "needs_background": "light"
          }
        }
      ]
    },
    {
      "cell_type": "code",
      "metadata": {
        "id": "gqSCB3XcX28w",
        "colab_type": "code",
        "colab": {
          "base_uri": "https://localhost:8080/",
          "height": 295
        },
        "outputId": "e07cbd31-fd4a-4dbe-94d4-4bacdb168fb5"
      },
      "source": [
        "plt.clf()   # clear figure\n",
        "\n",
        "plt.plot(epochs, acc, 'bo', label='Training acc')\n",
        "plt.plot(epochs, val_acc, 'b', label='Validation acc')\n",
        "plt.title('Training and validation accuracy')\n",
        "plt.xlabel('Epochs')\n",
        "plt.ylabel('Accuracy')\n",
        "plt.legend(loc='lower right')\n",
        "\n",
        "plt.show()"
      ],
      "execution_count": 20,
      "outputs": [
        {
          "output_type": "display_data",
          "data": {
            "image/png": "[encoded data removed]",
            "text/plain": [
              "<Figure size 432x288 with 1 Axes>"
            ]
          },
          "metadata": {
            "tags": [],
            "needs_background": "light"
          }
        }
      ]
    },
    {
      "cell_type": "code",
      "metadata": {
        "id": "Zh6KqlHfYGbd",
        "colab_type": "code",
        "colab": {}
      },
      "source": [
        "import matplotlib.pyplot as plt\n",
        "\n",
        "acc = history_dict['accuracy']\n",
        "val_acc = history_dict['val_accuracy']\n",
        "loss = history_dict['loss']\n",
        "val_loss = history_dict['val_loss']\n",
        "\n",
        "epochs = range(1, len(acc) + 1)\n",
        "\n",
        "# \"bo\" is for \"blue dot\"\n",
        "plt.plot(epochs, loss, 'bo', label='Training loss')\n",
        "# b is for \"solid blue line\"\n",
        "plt.plot(epochs, val_loss, 'b', label='Validation loss')\n",
        "plt.title('Training and validation loss')\n",
        "plt.xlabel('Epochs')\n",
        "plt.ylabel('Loss')\n",
        "plt.legend()\n",
        "\n",
        "plt.show()"
      ],
      "execution_count": null,
      "outputs": []
    }
  ]
}
