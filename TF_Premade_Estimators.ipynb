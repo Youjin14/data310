{
  "nbformat": 4,
  "nbformat_minor": 0,
  "metadata": {
    "colab": {
      "name": "TF Premade Estimators.ipynb",
      "provenance": [],
      "authorship_tag": "ABX9TyNTgbvP6rUwVaDnGpd34IP1",
      "include_colab_link": true
    },
    "kernelspec": {
      "name": "python3",
      "display_name": "Python 3"
    },
    "accelerator": "GPU"
  },
  "cells": [
    {
      "cell_type": "markdown",
      "metadata": {
        "id": "view-in-github",
        "colab_type": "text"
      },
      "source": [
        "<a href=\"https://colab.research.google.com/github/Youjin14/data310/blob/master/TF_Premade_Estimators.ipynb\" target=\"_parent\"><img src=\"https://colab.research.google.com/assets/colab-badge.svg\" alt=\"Open In Colab\"/></a>"
      ]
    },
    {
      "cell_type": "code",
      "metadata": {
        "id": "MDT6XV4cfAKK",
        "colab_type": "code",
        "colab": {}
      },
      "source": [
        "import tensorflow as tf\n",
        "\n",
        "import pandas as pd"
      ],
      "execution_count": 1,
      "outputs": []
    },
    {
      "cell_type": "code",
      "metadata": {
        "id": "ql6RkiRufTSV",
        "colab_type": "code",
        "colab": {}
      },
      "source": [
        "CSV_COLUMN_NAMES = ['SepalLength', 'SepalWidth', 'PetalLength', 'PetalWidth', 'Species']\n",
        "SPECIES = ['Setosa', 'Versicolor', 'Virginica']"
      ],
      "execution_count": 2,
      "outputs": []
    },
    {
      "cell_type": "code",
      "metadata": {
        "id": "9cwaIphTzWTA",
        "colab_type": "code",
        "colab": {
          "base_uri": "https://localhost:8080/",
          "height": 105
        },
        "outputId": "c559ea2d-ec5a-4f12-d81c-bf1eb6016e87"
      },
      "source": [
        "train_path = tf.keras.utils.get_file(\n",
        "    \"iris_training.csv\", \"https://storage.googleapis.com/download.tensorflow.org/data/iris_training.csv\")\n",
        "test_path = tf.keras.utils.get_file(\n",
        "    \"iris_test.csv\", \"https://storage.googleapis.com/download.tensorflow.org/data/iris_test.csv\")\n",
        "\n",
        "train = pd.read_csv(train_path, names=CSV_COLUMN_NAMES, header=0)\n",
        "test = pd.read_csv(test_path, names=CSV_COLUMN_NAMES, header=0)"
      ],
      "execution_count": 3,
      "outputs": [
        {
          "output_type": "stream",
          "text": [
            "Downloading data from https://storage.googleapis.com/download.tensorflow.org/data/iris_training.csv\n",
            "8192/2194 [================================================================================================================] - 0s 0us/step\n",
            "Downloading data from https://storage.googleapis.com/download.tensorflow.org/data/iris_test.csv\n",
            "8192/573 [============================================================================================================================================================================================================================================================================================================================================================================================================================================] - 0s 0us/step\n"
          ],
          "name": "stdout"
        }
      ]
    },
    {
      "cell_type": "code",
      "metadata": {
        "id": "ErqaQ8xMzX76",
        "colab_type": "code",
        "colab": {
          "base_uri": "https://localhost:8080/",
          "height": 204
        },
        "outputId": "d3536ebe-fff9-4f21-9172-f0c9ea767f19"
      },
      "source": [
        "train.head()"
      ],
      "execution_count": 4,
      "outputs": [
        {
          "output_type": "execute_result",
          "data": {
            "text/html": [
              "<div>\n",
              "<style scoped>\n",
              "    .dataframe tbody tr th:only-of-type {\n",
              "        vertical-align: middle;\n",
              "    }\n",
              "\n",
              "    .dataframe tbody tr th {\n",
              "        vertical-align: top;\n",
              "    }\n",
              "\n",
              "    .dataframe thead th {\n",
              "        text-align: right;\n",
              "    }\n",
              "</style>\n",
              "<table border=\"1\" class=\"dataframe\">\n",
              "  <thead>\n",
              "    <tr style=\"text-align: right;\">\n",
              "      <th></th>\n",
              "      <th>SepalLength</th>\n",
              "      <th>SepalWidth</th>\n",
              "      <th>PetalLength</th>\n",
              "      <th>PetalWidth</th>\n",
              "      <th>Species</th>\n",
              "    </tr>\n",
              "  </thead>\n",
              "  <tbody>\n",
              "    <tr>\n",
              "      <th>0</th>\n",
              "      <td>6.4</td>\n",
              "      <td>2.8</td>\n",
              "      <td>5.6</td>\n",
              "      <td>2.2</td>\n",
              "      <td>2</td>\n",
              "    </tr>\n",
              "    <tr>\n",
              "      <th>1</th>\n",
              "      <td>5.0</td>\n",
              "      <td>2.3</td>\n",
              "      <td>3.3</td>\n",
              "      <td>1.0</td>\n",
              "      <td>1</td>\n",
              "    </tr>\n",
              "    <tr>\n",
              "      <th>2</th>\n",
              "      <td>4.9</td>\n",
              "      <td>2.5</td>\n",
              "      <td>4.5</td>\n",
              "      <td>1.7</td>\n",
              "      <td>2</td>\n",
              "    </tr>\n",
              "    <tr>\n",
              "      <th>3</th>\n",
              "      <td>4.9</td>\n",
              "      <td>3.1</td>\n",
              "      <td>1.5</td>\n",
              "      <td>0.1</td>\n",
              "      <td>0</td>\n",
              "    </tr>\n",
              "    <tr>\n",
              "      <th>4</th>\n",
              "      <td>5.7</td>\n",
              "      <td>3.8</td>\n",
              "      <td>1.7</td>\n",
              "      <td>0.3</td>\n",
              "      <td>0</td>\n",
              "    </tr>\n",
              "  </tbody>\n",
              "</table>\n",
              "</div>"
            ],
            "text/plain": [
              "   SepalLength  SepalWidth  PetalLength  PetalWidth  Species\n",
              "0          6.4         2.8          5.6         2.2        2\n",
              "1          5.0         2.3          3.3         1.0        1\n",
              "2          4.9         2.5          4.5         1.7        2\n",
              "3          4.9         3.1          1.5         0.1        0\n",
              "4          5.7         3.8          1.7         0.3        0"
            ]
          },
          "metadata": {
            "tags": []
          },
          "execution_count": 4
        }
      ]
    },
    {
      "cell_type": "code",
      "metadata": {
        "id": "ZvD2zxoEzZl7",
        "colab_type": "code",
        "colab": {
          "base_uri": "https://localhost:8080/",
          "height": 204
        },
        "outputId": "fa4291a6-c21f-470e-a032-00d25409dbe1"
      },
      "source": [
        "train_y = train.pop('Species')\n",
        "test_y = test.pop('Species')\n",
        "\n",
        "# The label column has now been removed from the features.\n",
        "train.head()"
      ],
      "execution_count": 5,
      "outputs": [
        {
          "output_type": "execute_result",
          "data": {
            "text/html": [
              "<div>\n",
              "<style scoped>\n",
              "    .dataframe tbody tr th:only-of-type {\n",
              "        vertical-align: middle;\n",
              "    }\n",
              "\n",
              "    .dataframe tbody tr th {\n",
              "        vertical-align: top;\n",
              "    }\n",
              "\n",
              "    .dataframe thead th {\n",
              "        text-align: right;\n",
              "    }\n",
              "</style>\n",
              "<table border=\"1\" class=\"dataframe\">\n",
              "  <thead>\n",
              "    <tr style=\"text-align: right;\">\n",
              "      <th></th>\n",
              "      <th>SepalLength</th>\n",
              "      <th>SepalWidth</th>\n",
              "      <th>PetalLength</th>\n",
              "      <th>PetalWidth</th>\n",
              "    </tr>\n",
              "  </thead>\n",
              "  <tbody>\n",
              "    <tr>\n",
              "      <th>0</th>\n",
              "      <td>6.4</td>\n",
              "      <td>2.8</td>\n",
              "      <td>5.6</td>\n",
              "      <td>2.2</td>\n",
              "    </tr>\n",
              "    <tr>\n",
              "      <th>1</th>\n",
              "      <td>5.0</td>\n",
              "      <td>2.3</td>\n",
              "      <td>3.3</td>\n",
              "      <td>1.0</td>\n",
              "    </tr>\n",
              "    <tr>\n",
              "      <th>2</th>\n",
              "      <td>4.9</td>\n",
              "      <td>2.5</td>\n",
              "      <td>4.5</td>\n",
              "      <td>1.7</td>\n",
              "    </tr>\n",
              "    <tr>\n",
              "      <th>3</th>\n",
              "      <td>4.9</td>\n",
              "      <td>3.1</td>\n",
              "      <td>1.5</td>\n",
              "      <td>0.1</td>\n",
              "    </tr>\n",
              "    <tr>\n",
              "      <th>4</th>\n",
              "      <td>5.7</td>\n",
              "      <td>3.8</td>\n",
              "      <td>1.7</td>\n",
              "      <td>0.3</td>\n",
              "    </tr>\n",
              "  </tbody>\n",
              "</table>\n",
              "</div>"
            ],
            "text/plain": [
              "   SepalLength  SepalWidth  PetalLength  PetalWidth\n",
              "0          6.4         2.8          5.6         2.2\n",
              "1          5.0         2.3          3.3         1.0\n",
              "2          4.9         2.5          4.5         1.7\n",
              "3          4.9         3.1          1.5         0.1\n",
              "4          5.7         3.8          1.7         0.3"
            ]
          },
          "metadata": {
            "tags": []
          },
          "execution_count": 5
        }
      ]
    },
    {
      "cell_type": "code",
      "metadata": {
        "id": "N0RmMFet0eJi",
        "colab_type": "code",
        "colab": {}
      },
      "source": [
        "def input_evaluation_set():\n",
        "    features = {'SepalLength': np.array([6.4, 5.0]),\n",
        "                'SepalWidth':  np.array([2.8, 2.3]),\n",
        "                'PetalLength': np.array([5.6, 3.3]),\n",
        "                'PetalWidth':  np.array([2.2, 1.0])}\n",
        "    labels = np.array([2, 1])\n",
        "    return features, labels"
      ],
      "execution_count": 6,
      "outputs": []
    },
    {
      "cell_type": "code",
      "metadata": {
        "id": "OQ7JLpgt0tpy",
        "colab_type": "code",
        "colab": {}
      },
      "source": [
        "def input_fn(features, labels, training=True, batch_size=256):\n",
        "    \"\"\"An input function for training or evaluating\"\"\"\n",
        "    # Convert the inputs to a Dataset.\n",
        "    dataset = tf.data.Dataset.from_tensor_slices((dict(features), labels))\n",
        "\n",
        "    # Shuffle and repeat if you are in training mode.\n",
        "    if training:\n",
        "        dataset = dataset.shuffle(1000).repeat()\n",
        "    \n",
        "    return dataset.batch(batch_size)"
      ],
      "execution_count": 7,
      "outputs": []
    },
    {
      "cell_type": "code",
      "metadata": {
        "id": "zxGY_Zgy1kog",
        "colab_type": "code",
        "colab": {}
      },
      "source": [
        "# Feature columns describe how to use the input.\n",
        "my_feature_columns = []\n",
        "for key in train.keys():\n",
        "    my_feature_columns.append(tf.feature_column.numeric_column(key=key))"
      ],
      "execution_count": 8,
      "outputs": []
    },
    {
      "cell_type": "code",
      "metadata": {
        "id": "1Yoj0DZB1y-G",
        "colab_type": "code",
        "colab": {
          "base_uri": "https://localhost:8080/",
          "height": 190
        },
        "outputId": "7132aacf-1501-4500-971e-4a1d2e03c5ce"
      },
      "source": [
        "# Build a DNN with 2 hidden layers with 30 and 10 hidden nodes each.\n",
        "classifier = tf.estimator.DNNClassifier(\n",
        "    feature_columns=my_feature_columns,\n",
        "    # Two hidden layers of 30 and 10 nodes respectively.\n",
        "    hidden_units=[30, 10],\n",
        "    # The model must choose between 3 classes.\n",
        "    n_classes=3)"
      ],
      "execution_count": 9,
      "outputs": [
        {
          "output_type": "stream",
          "text": [
            "INFO:tensorflow:Using default config.\n",
            "WARNING:tensorflow:Using temporary folder as model directory: /tmp/tmpg38tdkmt\n",
            "INFO:tensorflow:Using config: {'_model_dir': '/tmp/tmpg38tdkmt', '_tf_random_seed': None, '_save_summary_steps': 100, '_save_checkpoints_steps': None, '_save_checkpoints_secs': 600, '_session_config': allow_soft_placement: true\n",
            "graph_options {\n",
            "  rewrite_options {\n",
            "    meta_optimizer_iterations: ONE\n",
            "  }\n",
            "}\n",
            ", '_keep_checkpoint_max': 5, '_keep_checkpoint_every_n_hours': 10000, '_log_step_count_steps': 100, '_train_distribute': None, '_device_fn': None, '_protocol': None, '_eval_distribute': None, '_experimental_distribute': None, '_experimental_max_worker_delay_secs': None, '_session_creation_timeout_secs': 7200, '_service': None, '_cluster_spec': ClusterSpec({}), '_task_type': 'worker', '_task_id': 0, '_global_id_in_cluster': 0, '_master': '', '_evaluation_master': '', '_is_chief': True, '_num_ps_replicas': 0, '_num_worker_replicas': 1}\n"
          ],
          "name": "stdout"
        }
      ]
    },
    {
      "cell_type": "code",
      "metadata": {
        "id": "nsqLPR9m14ll",
        "colab_type": "code",
        "colab": {
          "base_uri": "https://localhost:8080/",
          "height": 1000
        },
        "outputId": "0961845e-f3ce-4b9c-8672-3d86663f3d9c"
      },
      "source": [
        "# Train the Model.\n",
        "classifier.train(\n",
        "    input_fn=lambda: input_fn(train, train_y, training=True),\n",
        "    steps=5000)"
      ],
      "execution_count": 10,
      "outputs": [
        {
          "output_type": "stream",
          "text": [
            "WARNING:tensorflow:From /usr/local/lib/python3.6/dist-packages/tensorflow/python/ops/resource_variable_ops.py:1666: calling BaseResourceVariable.__init__ (from tensorflow.python.ops.resource_variable_ops) with constraint is deprecated and will be removed in a future version.\n",
            "Instructions for updating:\n",
            "If using Keras pass *_constraint arguments to layers.\n",
            "WARNING:tensorflow:From /usr/local/lib/python3.6/dist-packages/tensorflow/python/training/training_util.py:236: Variable.initialized_value (from tensorflow.python.ops.variables) is deprecated and will be removed in a future version.\n",
            "Instructions for updating:\n",
            "Use Variable.read_value. Variables in 2.X are initialized automatically both in eager and graph (inside tf.defun) contexts.\n",
            "INFO:tensorflow:Calling model_fn.\n",
            "WARNING:tensorflow:Layer dnn is casting an input tensor from dtype float64 to the layer's dtype of float32, which is new behavior in TensorFlow 2.  The layer has dtype float32 because it's dtype defaults to floatx.\n",
            "\n",
            "If you intended to run this layer in float32, you can safely ignore this warning. If in doubt, this warning is likely only an issue if you are porting a TensorFlow 1.X model to TensorFlow 2.\n",
            "\n",
            "To change all layers to have dtype float64 by default, call `tf.keras.backend.set_floatx('float64')`. To change just this layer, pass dtype='float64' to the layer constructor. If you are the author of this layer, you can disable autocasting by passing autocast=False to the base Layer constructor.\n",
            "\n",
            "WARNING:tensorflow:From /usr/local/lib/python3.6/dist-packages/tensorflow/python/keras/optimizer_v2/adagrad.py:106: calling Constant.__init__ (from tensorflow.python.ops.init_ops) with dtype is deprecated and will be removed in a future version.\n",
            "Instructions for updating:\n",
            "Call initializer instance with the dtype argument instead of passing it to the constructor\n",
            "INFO:tensorflow:Done calling model_fn.\n",
            "INFO:tensorflow:Create CheckpointSaverHook.\n",
            "INFO:tensorflow:Graph was finalized.\n",
            "INFO:tensorflow:Running local_init_op.\n",
            "INFO:tensorflow:Done running local_init_op.\n",
            "INFO:tensorflow:Calling checkpoint listeners before saving checkpoint 0...\n",
            "INFO:tensorflow:Saving checkpoints for 0 into /tmp/tmpg38tdkmt/model.ckpt.\n",
            "INFO:tensorflow:Calling checkpoint listeners after saving checkpoint 0...\n",
            "INFO:tensorflow:loss = 1.548804, step = 0\n",
            "INFO:tensorflow:global_step/sec: 515.714\n",
            "INFO:tensorflow:loss = 1.2384317, step = 100 (0.195 sec)\n",
            "INFO:tensorflow:global_step/sec: 674.762\n",
            "INFO:tensorflow:loss = 1.1876998, step = 200 (0.150 sec)\n",
            "INFO:tensorflow:global_step/sec: 676.364\n",
            "INFO:tensorflow:loss = 1.1543428, step = 300 (0.148 sec)\n",
            "INFO:tensorflow:global_step/sec: 671.604\n",
            "INFO:tensorflow:loss = 1.1150534, step = 400 (0.147 sec)\n",
            "INFO:tensorflow:global_step/sec: 661.357\n",
            "INFO:tensorflow:loss = 1.0890219, step = 500 (0.152 sec)\n",
            "INFO:tensorflow:global_step/sec: 665.374\n",
            "INFO:tensorflow:loss = 1.0586566, step = 600 (0.151 sec)\n",
            "INFO:tensorflow:global_step/sec: 633.514\n",
            "INFO:tensorflow:loss = 1.0471185, step = 700 (0.156 sec)\n",
            "INFO:tensorflow:global_step/sec: 633.398\n",
            "INFO:tensorflow:loss = 1.0444438, step = 800 (0.159 sec)\n",
            "INFO:tensorflow:global_step/sec: 656.309\n",
            "INFO:tensorflow:loss = 1.0188656, step = 900 (0.152 sec)\n",
            "INFO:tensorflow:global_step/sec: 658.842\n",
            "INFO:tensorflow:loss = 1.0155499, step = 1000 (0.151 sec)\n",
            "INFO:tensorflow:global_step/sec: 641.521\n",
            "INFO:tensorflow:loss = 1.0095346, step = 1100 (0.157 sec)\n",
            "INFO:tensorflow:global_step/sec: 679.88\n",
            "INFO:tensorflow:loss = 0.99139374, step = 1200 (0.147 sec)\n",
            "INFO:tensorflow:global_step/sec: 696.209\n",
            "INFO:tensorflow:loss = 0.95977014, step = 1300 (0.143 sec)\n",
            "INFO:tensorflow:global_step/sec: 648.469\n",
            "INFO:tensorflow:loss = 0.93979335, step = 1400 (0.158 sec)\n",
            "INFO:tensorflow:global_step/sec: 621.752\n",
            "INFO:tensorflow:loss = 0.91387415, step = 1500 (0.156 sec)\n",
            "INFO:tensorflow:global_step/sec: 661.381\n",
            "INFO:tensorflow:loss = 0.8969414, step = 1600 (0.154 sec)\n",
            "INFO:tensorflow:global_step/sec: 679.452\n",
            "INFO:tensorflow:loss = 0.88293976, step = 1700 (0.147 sec)\n",
            "INFO:tensorflow:global_step/sec: 679.77\n",
            "INFO:tensorflow:loss = 0.8734541, step = 1800 (0.145 sec)\n",
            "INFO:tensorflow:global_step/sec: 633.068\n",
            "INFO:tensorflow:loss = 0.86454237, step = 1900 (0.157 sec)\n",
            "INFO:tensorflow:global_step/sec: 674.864\n",
            "INFO:tensorflow:loss = 0.8497081, step = 2000 (0.148 sec)\n",
            "INFO:tensorflow:global_step/sec: 642.166\n",
            "INFO:tensorflow:loss = 0.8465655, step = 2100 (0.158 sec)\n",
            "INFO:tensorflow:global_step/sec: 653.018\n",
            "INFO:tensorflow:loss = 0.8304509, step = 2200 (0.151 sec)\n",
            "INFO:tensorflow:global_step/sec: 646.299\n",
            "INFO:tensorflow:loss = 0.8249147, step = 2300 (0.154 sec)\n",
            "INFO:tensorflow:global_step/sec: 670.602\n",
            "INFO:tensorflow:loss = 0.817485, step = 2400 (0.152 sec)\n",
            "INFO:tensorflow:global_step/sec: 678.081\n",
            "INFO:tensorflow:loss = 0.823072, step = 2500 (0.145 sec)\n",
            "INFO:tensorflow:global_step/sec: 638.382\n",
            "INFO:tensorflow:loss = 0.8141391, step = 2600 (0.159 sec)\n",
            "INFO:tensorflow:global_step/sec: 670.1\n",
            "INFO:tensorflow:loss = 0.78134847, step = 2700 (0.147 sec)\n",
            "INFO:tensorflow:global_step/sec: 682.523\n",
            "INFO:tensorflow:loss = 0.7917591, step = 2800 (0.147 sec)\n",
            "INFO:tensorflow:global_step/sec: 705.246\n",
            "INFO:tensorflow:loss = 0.7653749, step = 2900 (0.144 sec)\n",
            "INFO:tensorflow:global_step/sec: 694.43\n",
            "INFO:tensorflow:loss = 0.7847856, step = 3000 (0.145 sec)\n",
            "INFO:tensorflow:global_step/sec: 681.372\n",
            "INFO:tensorflow:loss = 0.7646687, step = 3100 (0.144 sec)\n",
            "INFO:tensorflow:global_step/sec: 691.378\n",
            "INFO:tensorflow:loss = 0.75983995, step = 3200 (0.146 sec)\n",
            "INFO:tensorflow:global_step/sec: 681.517\n",
            "INFO:tensorflow:loss = 0.76284325, step = 3300 (0.147 sec)\n",
            "INFO:tensorflow:global_step/sec: 684.442\n",
            "INFO:tensorflow:loss = 0.7611716, step = 3400 (0.146 sec)\n",
            "INFO:tensorflow:global_step/sec: 657.126\n",
            "INFO:tensorflow:loss = 0.75934833, step = 3500 (0.153 sec)\n",
            "INFO:tensorflow:global_step/sec: 695.053\n",
            "INFO:tensorflow:loss = 0.75711954, step = 3600 (0.144 sec)\n",
            "INFO:tensorflow:global_step/sec: 680.903\n",
            "INFO:tensorflow:loss = 0.73702896, step = 3700 (0.148 sec)\n",
            "INFO:tensorflow:global_step/sec: 685.789\n",
            "INFO:tensorflow:loss = 0.74208665, step = 3800 (0.143 sec)\n",
            "INFO:tensorflow:global_step/sec: 682.46\n",
            "INFO:tensorflow:loss = 0.73676217, step = 3900 (0.149 sec)\n",
            "INFO:tensorflow:global_step/sec: 690.768\n",
            "INFO:tensorflow:loss = 0.71377176, step = 4000 (0.142 sec)\n",
            "INFO:tensorflow:global_step/sec: 684.895\n",
            "INFO:tensorflow:loss = 0.7262924, step = 4100 (0.146 sec)\n",
            "INFO:tensorflow:global_step/sec: 668.053\n",
            "INFO:tensorflow:loss = 0.7160232, step = 4200 (0.151 sec)\n",
            "INFO:tensorflow:global_step/sec: 623.193\n",
            "INFO:tensorflow:loss = 0.7016338, step = 4300 (0.161 sec)\n",
            "INFO:tensorflow:global_step/sec: 606.452\n",
            "INFO:tensorflow:loss = 0.70349705, step = 4400 (0.165 sec)\n",
            "INFO:tensorflow:global_step/sec: 639.785\n",
            "INFO:tensorflow:loss = 0.70489204, step = 4500 (0.154 sec)\n",
            "INFO:tensorflow:global_step/sec: 688.651\n",
            "INFO:tensorflow:loss = 0.71983516, step = 4600 (0.147 sec)\n",
            "INFO:tensorflow:global_step/sec: 668.927\n",
            "INFO:tensorflow:loss = 0.7000318, step = 4700 (0.147 sec)\n",
            "INFO:tensorflow:global_step/sec: 608.355\n",
            "INFO:tensorflow:loss = 0.676915, step = 4800 (0.167 sec)\n",
            "INFO:tensorflow:global_step/sec: 678.553\n",
            "INFO:tensorflow:loss = 0.67377937, step = 4900 (0.145 sec)\n",
            "INFO:tensorflow:Calling checkpoint listeners before saving checkpoint 5000...\n",
            "INFO:tensorflow:Saving checkpoints for 5000 into /tmp/tmpg38tdkmt/model.ckpt.\n",
            "INFO:tensorflow:Calling checkpoint listeners after saving checkpoint 5000...\n",
            "INFO:tensorflow:Loss for final step: 0.67241013.\n"
          ],
          "name": "stdout"
        },
        {
          "output_type": "execute_result",
          "data": {
            "text/plain": [
              "<tensorflow_estimator.python.estimator.canned.dnn.DNNClassifierV2 at 0x7f064d0371d0>"
            ]
          },
          "metadata": {
            "tags": []
          },
          "execution_count": 10
        }
      ]
    },
    {
      "cell_type": "code",
      "metadata": {
        "id": "yAY57KsD17qn",
        "colab_type": "code",
        "colab": {
          "base_uri": "https://localhost:8080/",
          "height": 377
        },
        "outputId": "dddf73bf-9ce6-41bf-95c6-c3bf6000006c"
      },
      "source": [
        "eval_result = classifier.evaluate(\n",
        "    input_fn=lambda: input_fn(test, test_y, training=False))\n",
        "\n",
        "print('\\nTest set accuracy: {accuracy:0.3f}\\n'.format(**eval_result))"
      ],
      "execution_count": 11,
      "outputs": [
        {
          "output_type": "stream",
          "text": [
            "INFO:tensorflow:Calling model_fn.\n",
            "WARNING:tensorflow:Layer dnn is casting an input tensor from dtype float64 to the layer's dtype of float32, which is new behavior in TensorFlow 2.  The layer has dtype float32 because it's dtype defaults to floatx.\n",
            "\n",
            "If you intended to run this layer in float32, you can safely ignore this warning. If in doubt, this warning is likely only an issue if you are porting a TensorFlow 1.X model to TensorFlow 2.\n",
            "\n",
            "To change all layers to have dtype float64 by default, call `tf.keras.backend.set_floatx('float64')`. To change just this layer, pass dtype='float64' to the layer constructor. If you are the author of this layer, you can disable autocasting by passing autocast=False to the base Layer constructor.\n",
            "\n",
            "INFO:tensorflow:Done calling model_fn.\n",
            "INFO:tensorflow:Starting evaluation at 2020-07-19T02:12:19Z\n",
            "INFO:tensorflow:Graph was finalized.\n",
            "INFO:tensorflow:Restoring parameters from /tmp/tmpg38tdkmt/model.ckpt-5000\n",
            "INFO:tensorflow:Running local_init_op.\n",
            "INFO:tensorflow:Done running local_init_op.\n",
            "INFO:tensorflow:Inference Time : 0.25416s\n",
            "INFO:tensorflow:Finished evaluation at 2020-07-19-02:12:19\n",
            "INFO:tensorflow:Saving dict for global step 5000: accuracy = 0.53333336, average_loss = 0.78839976, global_step = 5000, loss = 0.78839976\n",
            "INFO:tensorflow:Saving 'checkpoint_path' summary for global step 5000: /tmp/tmpg38tdkmt/model.ckpt-5000\n",
            "\n",
            "Test set accuracy: 0.533\n",
            "\n"
          ],
          "name": "stdout"
        }
      ]
    },
    {
      "cell_type": "code",
      "metadata": {
        "id": "W9Xq8wqr1-lX",
        "colab_type": "code",
        "colab": {}
      },
      "source": [
        "# Generate predictions from the model\n",
        "expected = ['Setosa', 'Versicolor', 'Virginica']\n",
        "predict_x = {\n",
        "    'SepalLength': [5.1, 5.9, 6.9],\n",
        "    'SepalWidth': [3.3, 3.0, 3.1],\n",
        "    'PetalLength': [1.7, 4.2, 5.4],\n",
        "    'PetalWidth': [0.5, 1.5, 2.1],\n",
        "}\n",
        "\n",
        "def input_fn(features, batch_size=256):\n",
        "    \"\"\"An input function for prediction.\"\"\"\n",
        "    # Convert the inputs to a Dataset without labels.\n",
        "    return tf.data.Dataset.from_tensor_slices(dict(features)).batch(batch_size)\n",
        "\n",
        "predictions = classifier.predict(\n",
        "    input_fn=lambda: input_fn(predict_x))"
      ],
      "execution_count": 12,
      "outputs": []
    },
    {
      "cell_type": "code",
      "metadata": {
        "id": "ipQ05QlV2Cc2",
        "colab_type": "code",
        "colab": {
          "base_uri": "https://localhost:8080/",
          "height": 170
        },
        "outputId": "a489786c-516f-45c5-86a4-09bd4f8736d2"
      },
      "source": [
        "for pred_dict, expec in zip(predictions, expected):\n",
        "    class_id = pred_dict['class_ids'][0]\n",
        "    probability = pred_dict['probabilities'][class_id]\n",
        "\n",
        "    print('Prediction is \"{}\" ({:.1f}%), expected \"{}\"'.format(\n",
        "        SPECIES[class_id], 100 * probability, expec))"
      ],
      "execution_count": 13,
      "outputs": [
        {
          "output_type": "stream",
          "text": [
            "INFO:tensorflow:Calling model_fn.\n",
            "INFO:tensorflow:Done calling model_fn.\n",
            "INFO:tensorflow:Graph was finalized.\n",
            "INFO:tensorflow:Restoring parameters from /tmp/tmpg38tdkmt/model.ckpt-5000\n",
            "INFO:tensorflow:Running local_init_op.\n",
            "INFO:tensorflow:Done running local_init_op.\n",
            "Prediction is \"Setosa\" (83.9%), expected \"Setosa\"\n",
            "Prediction is \"Virginica\" (37.4%), expected \"Versicolor\"\n",
            "Prediction is \"Virginica\" (46.0%), expected \"Virginica\"\n"
          ],
          "name": "stdout"
        }
      ]
    },
    {
      "cell_type": "code",
      "metadata": {
        "id": "u1eV8Mvs2EIz",
        "colab_type": "code",
        "colab": {}
      },
      "source": [
        ""
      ],
      "execution_count": null,
      "outputs": []
    }
  ]
}