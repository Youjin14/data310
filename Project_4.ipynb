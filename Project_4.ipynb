{
  "nbformat": 4,
  "nbformat_minor": 0,
  "metadata": {
    "colab": {
      "name": "Project 4.ipynb",
      "provenance": [],
      "collapsed_sections": [],
      "authorship_tag": "ABX9TyNjj1ByYMxdAi0o/2wUsdV5",
      "include_colab_link": true
    },
    "kernelspec": {
      "name": "python3",
      "display_name": "Python 3"
    },
    "accelerator": "GPU"
  },
  "cells": [
    {
      "cell_type": "markdown",
      "metadata": {
        "id": "view-in-github",
        "colab_type": "text"
      },
      "source": [
        "<a href=\"https://colab.research.google.com/github/Youjin14/data310/blob/master/Project_4.ipynb\" target=\"_parent\"><img src=\"https://colab.research.google.com/assets/colab-badge.svg\" alt=\"Open In Colab\"/></a>"
      ]
    },
    {
      "cell_type": "code",
      "metadata": {
        "id": "EQZaUgDrduM6",
        "colab_type": "code",
        "colab": {}
      },
      "source": [
        "import tensorflow as tf\n",
        "\n",
        "import numpy as np\n",
        "import os\n",
        "import time"
      ],
      "execution_count": 85,
      "outputs": []
    },
    {
      "cell_type": "code",
      "metadata": {
        "id": "qYHVTTovf5Fv",
        "colab_type": "code",
        "colab": {}
      },
      "source": [
        "path_to_file = tf.keras.utils.get_file('Bee_Movie1.txt', 'https://github.com/Youjin14/DATA-310-Applied-Machine-Learning/files/5013150/Bee_Movie1.txt')"
      ],
      "execution_count": 86,
      "outputs": []
    },
    {
      "cell_type": "code",
      "metadata": {
        "id": "vbaDqRuFgRI9",
        "colab_type": "code",
        "colab": {
          "base_uri": "https://localhost:8080/",
          "height": 34
        },
        "outputId": "84079b51-1488-4f16-8e90-d78fb3eed851"
      },
      "source": [
        "# Read, then decode for py2 compat.\n",
        "text = open(path_to_file, 'rb').read().decode(encoding='utf-8')\n",
        "# length of text is the number of characters in it\n",
        "print ('Length of text: {} characters'.format(len(text)))"
      ],
      "execution_count": 87,
      "outputs": [
        {
          "output_type": "stream",
          "text": [
            "Length of text: 32008 characters\n"
          ],
          "name": "stdout"
        }
      ]
    },
    {
      "cell_type": "code",
      "metadata": {
        "id": "amN_aRGPh7oO",
        "colab_type": "code",
        "colab": {
          "base_uri": "https://localhost:8080/",
          "height": 54
        },
        "outputId": "ecd5a058-4667-407c-f4ef-a187cdb46eb4"
      },
      "source": [
        "# Take a look at the first 250 characters in text\n",
        "print(text[:250])"
      ],
      "execution_count": 84,
      "outputs": [
        {
          "output_type": "stream",
          "text": [
            "<!DOCTYPE html><html lang=\"en-US\" class=\"\" data-primer><head><link href=\"https://a.slack-edge.com/f1cf3/style/libs/lato-2-compressed.css\" rel=\"stylesheet\" type=\"text/css\" onload=\"window._cdn ? _cdn.ok(this, arguments) : null\" onerror=\"window._cdn ? _\n"
          ],
          "name": "stdout"
        }
      ]
    },
    {
      "cell_type": "code",
      "metadata": {
        "id": "3dr8HZvuh9eb",
        "colab_type": "code",
        "colab": {
          "base_uri": "https://localhost:8080/",
          "height": 34
        },
        "outputId": "b035a30b-0dd4-4dac-d443-f0dd61342d19"
      },
      "source": [
        "# The unique characters in the file\n",
        "vocab = sorted(set(text))\n",
        "print ('{} unique characters'.format(len(vocab)))"
      ],
      "execution_count": 52,
      "outputs": [
        {
          "output_type": "stream",
          "text": [
            "95 unique characters\n"
          ],
          "name": "stdout"
        }
      ]
    },
    {
      "cell_type": "code",
      "metadata": {
        "id": "fzWw69z3iJTF",
        "colab_type": "code",
        "colab": {}
      },
      "source": [
        "# Creating a mapping from unique characters to indices\n",
        "char2idx = {u:i for i, u in enumerate(vocab)}\n",
        "idx2char = np.array(vocab)\n",
        "\n",
        "text_as_int = np.array([char2idx[c] for c in text])"
      ],
      "execution_count": 53,
      "outputs": []
    },
    {
      "cell_type": "code",
      "metadata": {
        "id": "GJ9Bbt_LiMJv",
        "colab_type": "code",
        "colab": {
          "base_uri": "https://localhost:8080/",
          "height": 408
        },
        "outputId": "7213b013-ec57-4d2a-c8cd-233ff2011546"
      },
      "source": [
        "print('{')\n",
        "for char,_ in zip(char2idx, range(20)):\n",
        "    print('  {:4s}: {:3d},'.format(repr(char), char2idx[char]))\n",
        "print('  ...\\n}')"
      ],
      "execution_count": 54,
      "outputs": [
        {
          "output_type": "stream",
          "text": [
            "{\n",
            "  '\\t':   0,\n",
            "  '\\n':   1,\n",
            "  ' ' :   2,\n",
            "  '!' :   3,\n",
            "  '\"' :   4,\n",
            "  '#' :   5,\n",
            "  '$' :   6,\n",
            "  '%' :   7,\n",
            "  '&' :   8,\n",
            "  \"'\" :   9,\n",
            "  '(' :  10,\n",
            "  ')' :  11,\n",
            "  '*' :  12,\n",
            "  '+' :  13,\n",
            "  ',' :  14,\n",
            "  '-' :  15,\n",
            "  '.' :  16,\n",
            "  '/' :  17,\n",
            "  '0' :  18,\n",
            "  '1' :  19,\n",
            "  ...\n",
            "}\n"
          ],
          "name": "stdout"
        }
      ]
    },
    {
      "cell_type": "code",
      "metadata": {
        "id": "9ixSZjsdiOJ6",
        "colab_type": "code",
        "colab": {
          "base_uri": "https://localhost:8080/",
          "height": 34
        },
        "outputId": "d37172a2-8c89-4b2a-8a8f-a72f763059e1"
      },
      "source": [
        "# Show how the first 13 characters from the text are mapped to integers\n",
        "print ('{} ---- characters mapped to int ---- > {}'.format(repr(text[:13]), text_as_int[:13]))"
      ],
      "execution_count": 55,
      "outputs": [
        {
          "output_type": "stream",
          "text": [
            "'<!DOCTYPE htm' ---- characters mapped to int ---- > [30  3 38 49 37 54 59 50 39  2 73 85 78]\n"
          ],
          "name": "stdout"
        }
      ]
    },
    {
      "cell_type": "code",
      "metadata": {
        "id": "O3Cz6NZ7iRPP",
        "colab_type": "code",
        "colab": {
          "base_uri": "https://localhost:8080/",
          "height": 102
        },
        "outputId": "e1e8a0a7-87fe-4b59-a981-fa07701ee38e"
      },
      "source": [
        "# The maximum length sentence we want for a single input in characters\n",
        "seq_length = 100\n",
        "examples_per_epoch = len(text)//(seq_length+1)\n",
        "\n",
        "# Create training examples / targets\n",
        "char_dataset = tf.data.Dataset.from_tensor_slices(text_as_int)\n",
        "\n",
        "for i in char_dataset.take(5):\n",
        "  print(idx2char[i.numpy()])"
      ],
      "execution_count": 56,
      "outputs": [
        {
          "output_type": "stream",
          "text": [
            "<\n",
            "!\n",
            "D\n",
            "O\n",
            "C\n"
          ],
          "name": "stdout"
        }
      ]
    },
    {
      "cell_type": "code",
      "metadata": {
        "id": "MKeBFev7iTqf",
        "colab_type": "code",
        "colab": {
          "base_uri": "https://localhost:8080/",
          "height": 102
        },
        "outputId": "5cb0f6e6-3d85-4147-8b86-321152b0733b"
      },
      "source": [
        "sequences = char_dataset.batch(seq_length+1, drop_remainder=True)\n",
        "\n",
        "for item in sequences.take(5):\n",
        "  print(repr(''.join(idx2char[item.numpy()])))"
      ],
      "execution_count": 57,
      "outputs": [
        {
          "output_type": "stream",
          "text": [
            "'<!DOCTYPE html><html lang=\"en-US\" class=\"\" data-primer><head><link href=\"https://a.slack-edge.com/f1c'\n",
            "'f3/style/libs/lato-2-compressed.css\" rel=\"stylesheet\" type=\"text/css\" onload=\"window._cdn ? _cdn.ok(t'\n",
            "'his, arguments) : null\" onerror=\"window._cdn ? _cdn.failed(this, arguments) : null\" crossorigin=\"anon'\n",
            "'ymous\"><link href=\"https://a.slack-edge.com/91f11/style/_generic.typography.larsseit.css\" rel=\"styles'\n",
            "'heet\" type=\"text/css\" onload=\"window._cdn ? _cdn.ok(this, arguments) : null\" onerror=\"window._cdn ? _'\n"
          ],
          "name": "stdout"
        }
      ]
    },
    {
      "cell_type": "code",
      "metadata": {
        "id": "z2wOLPfkjMcd",
        "colab_type": "code",
        "colab": {}
      },
      "source": [
        "def split_input_target(chunk):\n",
        "    input_text = chunk[:-1]\n",
        "    target_text = chunk[1:]\n",
        "    return input_text, target_text\n",
        "\n",
        "dataset = sequences.map(split_input_target)"
      ],
      "execution_count": 58,
      "outputs": []
    },
    {
      "cell_type": "code",
      "metadata": {
        "id": "ic1oWOTCjP41",
        "colab_type": "code",
        "colab": {
          "base_uri": "https://localhost:8080/",
          "height": 51
        },
        "outputId": "fcaa468d-30ba-4d3e-ac00-a30f41722873"
      },
      "source": [
        "for input_example, target_example in  dataset.take(1):\n",
        "  print ('Input data: ', repr(''.join(idx2char[input_example.numpy()])))\n",
        "  print ('Target data:', repr(''.join(idx2char[target_example.numpy()])))"
      ],
      "execution_count": 59,
      "outputs": [
        {
          "output_type": "stream",
          "text": [
            "Input data:  '<!DOCTYPE html><html lang=\"en-US\" class=\"\" data-primer><head><link href=\"https://a.slack-edge.com/f1'\n",
            "Target data: '!DOCTYPE html><html lang=\"en-US\" class=\"\" data-primer><head><link href=\"https://a.slack-edge.com/f1c'\n"
          ],
          "name": "stdout"
        }
      ]
    },
    {
      "cell_type": "code",
      "metadata": {
        "id": "weEe_AjRjRS_",
        "colab_type": "code",
        "colab": {
          "base_uri": "https://localhost:8080/",
          "height": 272
        },
        "outputId": "6e74cec0-ab0c-479e-e8de-798041a9d569"
      },
      "source": [
        "for i, (input_idx, target_idx) in enumerate(zip(input_example[:5], target_example[:5])):\n",
        "    print(\"Step {:4d}\".format(i))\n",
        "    print(\"  input: {} ({:s})\".format(input_idx, repr(idx2char[input_idx])))\n",
        "    print(\"  expected output: {} ({:s})\".format(target_idx, repr(idx2char[target_idx])))"
      ],
      "execution_count": 60,
      "outputs": [
        {
          "output_type": "stream",
          "text": [
            "Step    0\n",
            "  input: 30 ('<')\n",
            "  expected output: 3 ('!')\n",
            "Step    1\n",
            "  input: 3 ('!')\n",
            "  expected output: 38 ('D')\n",
            "Step    2\n",
            "  input: 38 ('D')\n",
            "  expected output: 49 ('O')\n",
            "Step    3\n",
            "  input: 49 ('O')\n",
            "  expected output: 37 ('C')\n",
            "Step    4\n",
            "  input: 37 ('C')\n",
            "  expected output: 54 ('T')\n"
          ],
          "name": "stdout"
        }
      ]
    },
    {
      "cell_type": "code",
      "metadata": {
        "id": "_fQsBExjjT1D",
        "colab_type": "code",
        "colab": {
          "base_uri": "https://localhost:8080/",
          "height": 34
        },
        "outputId": "0acce966-c6b4-4220-c059-f10bbfaef9ff"
      },
      "source": [
        "# Batch size\n",
        "BATCH_SIZE = 32\n",
        "\n",
        "# Buffer size to shuffle the dataset\n",
        "# (TF data is designed to work with possibly infinite sequences,\n",
        "# so it doesn't attempt to shuffle the entire sequence in memory. Instead,\n",
        "# it maintains a buffer in which it shuffles elements).\n",
        "BUFFER_SIZE = 10000\n",
        "\n",
        "dataset = dataset.shuffle(BUFFER_SIZE).batch(BATCH_SIZE, drop_remainder=True)\n",
        "\n",
        "dataset"
      ],
      "execution_count": 61,
      "outputs": [
        {
          "output_type": "execute_result",
          "data": {
            "text/plain": [
              "<BatchDataset shapes: ((32, 100), (32, 100)), types: (tf.int64, tf.int64)>"
            ]
          },
          "metadata": {
            "tags": []
          },
          "execution_count": 61
        }
      ]
    },
    {
      "cell_type": "code",
      "metadata": {
        "id": "vEHStSGkjV1N",
        "colab_type": "code",
        "colab": {}
      },
      "source": [
        "# Length of the vocabulary in chars\n",
        "vocab_size = len(vocab)\n",
        "\n",
        "# The embedding dimension\n",
        "embedding_dim = 256\n",
        "\n",
        "# Number of RNN units\n",
        "rnn_units = 1024"
      ],
      "execution_count": 62,
      "outputs": []
    },
    {
      "cell_type": "code",
      "metadata": {
        "id": "Sp6aI47ojZo_",
        "colab_type": "code",
        "colab": {}
      },
      "source": [
        "def build_model(vocab_size, embedding_dim, rnn_units, batch_size):\n",
        "  model = tf.keras.Sequential([\n",
        "    tf.keras.layers.Embedding(vocab_size, embedding_dim,\n",
        "                              batch_input_shape=[batch_size, None]),\n",
        "    tf.keras.layers.GRU(rnn_units,\n",
        "                        return_sequences=True,\n",
        "                        stateful=True,\n",
        "                        recurrent_initializer='glorot_uniform'),\n",
        "    tf.keras.layers.Dense(vocab_size)\n",
        "  ])\n",
        "  return model"
      ],
      "execution_count": 63,
      "outputs": []
    },
    {
      "cell_type": "code",
      "metadata": {
        "id": "-NhQXZWJjbFN",
        "colab_type": "code",
        "colab": {}
      },
      "source": [
        "model = build_model(\n",
        "  vocab_size = len(vocab),\n",
        "  embedding_dim=embedding_dim,\n",
        "  rnn_units=rnn_units,\n",
        "  batch_size=BATCH_SIZE)"
      ],
      "execution_count": 64,
      "outputs": []
    },
    {
      "cell_type": "code",
      "metadata": {
        "id": "RyoeJDTyjcX4",
        "colab_type": "code",
        "colab": {
          "base_uri": "https://localhost:8080/",
          "height": 34
        },
        "outputId": "d76384b8-6b0c-4ede-e6b5-7597486840b2"
      },
      "source": [
        "for input_example_batch, target_example_batch in dataset.take(1):\n",
        "  example_batch_predictions = model(input_example_batch)\n",
        "  print(example_batch_predictions.shape, \"# (batch_size, sequence_length, vocab_size)\")"
      ],
      "execution_count": 65,
      "outputs": [
        {
          "output_type": "stream",
          "text": [
            "(32, 100, 95) # (batch_size, sequence_length, vocab_size)\n"
          ],
          "name": "stdout"
        }
      ]
    },
    {
      "cell_type": "code",
      "metadata": {
        "id": "5X6cE9g8jeAz",
        "colab_type": "code",
        "colab": {
          "base_uri": "https://localhost:8080/",
          "height": 255
        },
        "outputId": "95210919-ca3b-4e41-b139-4f8786b147b6"
      },
      "source": [
        "model.summary()"
      ],
      "execution_count": 66,
      "outputs": [
        {
          "output_type": "stream",
          "text": [
            "Model: \"sequential_1\"\n",
            "_________________________________________________________________\n",
            "Layer (type)                 Output Shape              Param #   \n",
            "=================================================================\n",
            "embedding_1 (Embedding)      (32, None, 256)           24320     \n",
            "_________________________________________________________________\n",
            "gru_1 (GRU)                  (32, None, 1024)          3938304   \n",
            "_________________________________________________________________\n",
            "dense_1 (Dense)              (32, None, 95)            97375     \n",
            "=================================================================\n",
            "Total params: 4,059,999\n",
            "Trainable params: 4,059,999\n",
            "Non-trainable params: 0\n",
            "_________________________________________________________________\n"
          ],
          "name": "stdout"
        }
      ]
    },
    {
      "cell_type": "code",
      "metadata": {
        "id": "1MW5vqJwjfZe",
        "colab_type": "code",
        "colab": {}
      },
      "source": [
        "sampled_indices = tf.random.categorical(example_batch_predictions[0], num_samples=1)\n",
        "sampled_indices = tf.squeeze(sampled_indices,axis=-1).numpy()"
      ],
      "execution_count": 67,
      "outputs": []
    },
    {
      "cell_type": "code",
      "metadata": {
        "id": "cVfwlbYQjhOn",
        "colab_type": "code",
        "colab": {
          "base_uri": "https://localhost:8080/",
          "height": 119
        },
        "outputId": "eb1b4604-38e2-4560-ca07-d823fb312a67"
      },
      "source": [
        "sampled_indices"
      ],
      "execution_count": 68,
      "outputs": [
        {
          "output_type": "execute_result",
          "data": {
            "text/plain": [
              "array([ 5, 85, 68, 37, 55, 32, 47, 92, 30, 78, 77, 25, 30, 87, 32, 26, 50,\n",
              "       66, 57, 53, 57, 10, 87, 13, 67, 51,  4, 69,  7, 41, 12, 38, 33, 55,\n",
              "       15, 67, 24, 75, 57, 81, 43, 51, 40, 18,  2, 18,  0, 48, 33, 68, 76,\n",
              "       58, 91, 78, 22, 72, 25, 80, 68, 17, 35, 71, 85,  3, 79, 14, 54, 23,\n",
              "       76,  1, 87, 53, 45, 75, 65, 85, 44,  1,  6, 45, 24, 70, 34, 51, 48,\n",
              "       13, 29, 24, 83,  5, 78, 39, 60, 90, 17, 77, 28, 24, 46, 34])"
            ]
          },
          "metadata": {
            "tags": []
          },
          "execution_count": 68
        }
      ]
    },
    {
      "cell_type": "code",
      "metadata": {
        "id": "gyEaTyCxji6R",
        "colab_type": "code",
        "colab": {
          "base_uri": "https://localhost:8080/",
          "height": 51
        },
        "outputId": "e88f33c3-0ee0-40d2-8762-c47b3ce400bb"
      },
      "source": [
        "def loss(labels, logits):\n",
        "  return tf.keras.losses.sparse_categorical_crossentropy(labels, logits, from_logits=True)\n",
        "\n",
        "example_batch_loss  = loss(target_example_batch, example_batch_predictions)\n",
        "print(\"Prediction shape: \", example_batch_predictions.shape, \" # (batch_size, sequence_length, vocab_size)\")\n",
        "print(\"scalar_loss:      \", example_batch_loss.numpy().mean())"
      ],
      "execution_count": 69,
      "outputs": [
        {
          "output_type": "stream",
          "text": [
            "Prediction shape:  (32, 100, 95)  # (batch_size, sequence_length, vocab_size)\n",
            "scalar_loss:       4.5541244\n"
          ],
          "name": "stdout"
        }
      ]
    },
    {
      "cell_type": "code",
      "metadata": {
        "id": "m64QlTrWkft1",
        "colab_type": "code",
        "colab": {}
      },
      "source": [
        "model.compile(optimizer='adam', loss=loss)"
      ],
      "execution_count": 70,
      "outputs": []
    },
    {
      "cell_type": "code",
      "metadata": {
        "id": "29fHrcw1oFTg",
        "colab_type": "code",
        "colab": {}
      },
      "source": [
        "# Directory where the checkpoints will be saved\n",
        "checkpoint_dir = './training_checkpoints'\n",
        "# Name of the checkpoint files\n",
        "checkpoint_prefix = os.path.join(checkpoint_dir, \"ckpt_{epoch}\")\n",
        "\n",
        "checkpoint_callback=tf.keras.callbacks.ModelCheckpoint(\n",
        "    filepath=checkpoint_prefix,\n",
        "    save_weights_only=True)"
      ],
      "execution_count": 71,
      "outputs": []
    },
    {
      "cell_type": "code",
      "metadata": {
        "id": "8F6TtKNsoHKV",
        "colab_type": "code",
        "colab": {}
      },
      "source": [
        "EPOCHS=100"
      ],
      "execution_count": 72,
      "outputs": []
    },
    {
      "cell_type": "code",
      "metadata": {
        "id": "C-tUn80loJKW",
        "colab_type": "code",
        "colab": {
          "base_uri": "https://localhost:8080/",
          "height": 1000
        },
        "outputId": "57aeb2fd-4278-49c5-ead1-6a4e499604e3"
      },
      "source": [
        "history = model.fit(dataset, epochs=EPOCHS, callbacks=[checkpoint_callback])"
      ],
      "execution_count": 73,
      "outputs": [
        {
          "output_type": "stream",
          "text": [
            "Epoch 1/100\n",
            "9/9 [==============================] - 0s 51ms/step - loss: 4.3299\n",
            "Epoch 2/100\n",
            "9/9 [==============================] - 0s 38ms/step - loss: 3.8525\n",
            "Epoch 3/100\n",
            "9/9 [==============================] - 0s 38ms/step - loss: 3.4976\n",
            "Epoch 4/100\n",
            "9/9 [==============================] - 0s 39ms/step - loss: 3.2716\n",
            "Epoch 5/100\n",
            "9/9 [==============================] - 0s 38ms/step - loss: 3.0545\n",
            "Epoch 6/100\n",
            "9/9 [==============================] - 0s 44ms/step - loss: 2.8347\n",
            "Epoch 7/100\n",
            "9/9 [==============================] - 0s 39ms/step - loss: 2.6580\n",
            "Epoch 8/100\n",
            "9/9 [==============================] - 0s 38ms/step - loss: 2.5173\n",
            "Epoch 9/100\n",
            "9/9 [==============================] - 0s 40ms/step - loss: 2.3993\n",
            "Epoch 10/100\n",
            "9/9 [==============================] - 0s 40ms/step - loss: 2.3129\n",
            "Epoch 11/100\n",
            "9/9 [==============================] - 0s 45ms/step - loss: 2.2122\n",
            "Epoch 12/100\n",
            "9/9 [==============================] - 0s 39ms/step - loss: 2.1505\n",
            "Epoch 13/100\n",
            "9/9 [==============================] - 0s 41ms/step - loss: 2.0947\n",
            "Epoch 14/100\n",
            "9/9 [==============================] - 0s 46ms/step - loss: 2.0280\n",
            "Epoch 15/100\n",
            "9/9 [==============================] - 0s 39ms/step - loss: 1.9803\n",
            "Epoch 16/100\n",
            "9/9 [==============================] - 0s 38ms/step - loss: 1.9108\n",
            "Epoch 17/100\n",
            "9/9 [==============================] - 0s 45ms/step - loss: 1.8409\n",
            "Epoch 18/100\n",
            "9/9 [==============================] - 0s 40ms/step - loss: 1.7801\n",
            "Epoch 19/100\n",
            "9/9 [==============================] - 0s 40ms/step - loss: 1.7230\n",
            "Epoch 20/100\n",
            "9/9 [==============================] - 1s 90ms/step - loss: 1.6443\n",
            "Epoch 21/100\n",
            "9/9 [==============================] - 0s 39ms/step - loss: 1.5984\n",
            "Epoch 22/100\n",
            "9/9 [==============================] - 0s 38ms/step - loss: 1.5175\n",
            "Epoch 23/100\n",
            "9/9 [==============================] - 0s 39ms/step - loss: 1.4703\n",
            "Epoch 24/100\n",
            "9/9 [==============================] - 0s 39ms/step - loss: 1.4014\n",
            "Epoch 25/100\n",
            "9/9 [==============================] - 0s 42ms/step - loss: 1.3429\n",
            "Epoch 26/100\n",
            "9/9 [==============================] - 0s 39ms/step - loss: 1.2694\n",
            "Epoch 27/100\n",
            "9/9 [==============================] - 0s 40ms/step - loss: 1.1955\n",
            "Epoch 28/100\n",
            "9/9 [==============================] - 0s 46ms/step - loss: 1.1374\n",
            "Epoch 29/100\n",
            "9/9 [==============================] - 0s 38ms/step - loss: 1.0816\n",
            "Epoch 30/100\n",
            "9/9 [==============================] - 0s 42ms/step - loss: 1.0137\n",
            "Epoch 31/100\n",
            "9/9 [==============================] - 0s 40ms/step - loss: 0.9545\n",
            "Epoch 32/100\n",
            "9/9 [==============================] - 0s 38ms/step - loss: 0.9069\n",
            "Epoch 33/100\n",
            "9/9 [==============================] - 0s 40ms/step - loss: 0.8498\n",
            "Epoch 34/100\n",
            "9/9 [==============================] - 0s 41ms/step - loss: 0.7912\n",
            "Epoch 35/100\n",
            "9/9 [==============================] - 0s 45ms/step - loss: 0.7351\n",
            "Epoch 36/100\n",
            "9/9 [==============================] - 0s 39ms/step - loss: 0.6905\n",
            "Epoch 37/100\n",
            "9/9 [==============================] - 0s 39ms/step - loss: 0.6498\n",
            "Epoch 38/100\n",
            "9/9 [==============================] - 0s 40ms/step - loss: 0.6070\n",
            "Epoch 39/100\n",
            "9/9 [==============================] - 0s 44ms/step - loss: 0.5677\n",
            "Epoch 40/100\n",
            "9/9 [==============================] - 0s 42ms/step - loss: 0.5383\n",
            "Epoch 41/100\n",
            "9/9 [==============================] - 0s 48ms/step - loss: 0.4996\n",
            "Epoch 42/100\n",
            "9/9 [==============================] - 0s 51ms/step - loss: 0.4742\n",
            "Epoch 43/100\n",
            "9/9 [==============================] - 6s 637ms/step - loss: 0.4427\n",
            "Epoch 44/100\n",
            "9/9 [==============================] - 1s 70ms/step - loss: 0.4233\n",
            "Epoch 45/100\n",
            "9/9 [==============================] - 1s 90ms/step - loss: 0.4046\n",
            "Epoch 46/100\n",
            "9/9 [==============================] - 0s 38ms/step - loss: 0.3785\n",
            "Epoch 47/100\n",
            "9/9 [==============================] - 1s 136ms/step - loss: 0.3651\n",
            "Epoch 48/100\n",
            "9/9 [==============================] - 0s 45ms/step - loss: 0.3487\n",
            "Epoch 49/100\n",
            "9/9 [==============================] - 0s 40ms/step - loss: 0.3358\n",
            "Epoch 50/100\n",
            "9/9 [==============================] - 0s 42ms/step - loss: 0.3208\n",
            "Epoch 51/100\n",
            "9/9 [==============================] - 1s 61ms/step - loss: 0.3085\n",
            "Epoch 52/100\n",
            "9/9 [==============================] - 1s 83ms/step - loss: 0.3009\n",
            "Epoch 53/100\n",
            "9/9 [==============================] - 7s 726ms/step - loss: 0.2923\n",
            "Epoch 54/100\n",
            "9/9 [==============================] - 0s 45ms/step - loss: 0.2824\n",
            "Epoch 55/100\n",
            "9/9 [==============================] - 0s 40ms/step - loss: 0.2775\n",
            "Epoch 56/100\n",
            "9/9 [==============================] - 0s 46ms/step - loss: 0.2685\n",
            "Epoch 57/100\n",
            "9/9 [==============================] - 0s 44ms/step - loss: 0.2636\n",
            "Epoch 58/100\n",
            "9/9 [==============================] - 0s 41ms/step - loss: 0.2525\n",
            "Epoch 59/100\n",
            "9/9 [==============================] - 1s 65ms/step - loss: 0.2561\n",
            "Epoch 60/100\n",
            "9/9 [==============================] - 0s 49ms/step - loss: 0.2486\n",
            "Epoch 61/100\n",
            "9/9 [==============================] - 1s 120ms/step - loss: 0.2459\n",
            "Epoch 62/100\n",
            "9/9 [==============================] - 1s 155ms/step - loss: 0.2409\n",
            "Epoch 63/100\n",
            "9/9 [==============================] - 1s 145ms/step - loss: 0.2357\n",
            "Epoch 64/100\n",
            "9/9 [==============================] - 5s 517ms/step - loss: 0.2365\n",
            "Epoch 65/100\n",
            "9/9 [==============================] - 1s 120ms/step - loss: 0.2336\n",
            "Epoch 66/100\n",
            "9/9 [==============================] - 0s 42ms/step - loss: 0.2286\n",
            "Epoch 67/100\n",
            "9/9 [==============================] - 0s 49ms/step - loss: 0.2244\n",
            "Epoch 68/100\n",
            "9/9 [==============================] - 0s 42ms/step - loss: 0.2193\n",
            "Epoch 69/100\n",
            "9/9 [==============================] - 0s 42ms/step - loss: 0.2131\n",
            "Epoch 70/100\n",
            "9/9 [==============================] - 0s 53ms/step - loss: 0.2115\n",
            "Epoch 71/100\n",
            "9/9 [==============================] - 2s 229ms/step - loss: 0.2071\n",
            "Epoch 72/100\n",
            "9/9 [==============================] - 0s 48ms/step - loss: 0.2045\n",
            "Epoch 73/100\n",
            "9/9 [==============================] - 6s 639ms/step - loss: 0.2002\n",
            "Epoch 74/100\n",
            "9/9 [==============================] - 0s 46ms/step - loss: 0.2016\n",
            "Epoch 75/100\n",
            "9/9 [==============================] - 1s 71ms/step - loss: 0.1974\n",
            "Epoch 76/100\n",
            "9/9 [==============================] - 0s 43ms/step - loss: 0.1961\n",
            "Epoch 77/100\n",
            "9/9 [==============================] - 0s 44ms/step - loss: 0.1939\n",
            "Epoch 78/100\n",
            "9/9 [==============================] - 0s 41ms/step - loss: 0.1898\n",
            "Epoch 79/100\n",
            "9/9 [==============================] - 0s 45ms/step - loss: 0.1914\n",
            "Epoch 80/100\n",
            "9/9 [==============================] - 0s 55ms/step - loss: 0.1862\n",
            "Epoch 81/100\n",
            "9/9 [==============================] - 1s 139ms/step - loss: 0.1860\n",
            "Epoch 82/100\n",
            "9/9 [==============================] - 6s 667ms/step - loss: 0.1856\n",
            "Epoch 83/100\n",
            "9/9 [==============================] - 0s 45ms/step - loss: 0.1832\n",
            "Epoch 84/100\n",
            "9/9 [==============================] - 0s 42ms/step - loss: 0.1778\n",
            "Epoch 85/100\n",
            "9/9 [==============================] - 0s 44ms/step - loss: 0.1751\n",
            "Epoch 86/100\n",
            "9/9 [==============================] - 0s 45ms/step - loss: 0.1748\n",
            "Epoch 87/100\n",
            "9/9 [==============================] - 0s 45ms/step - loss: 0.1693\n",
            "Epoch 88/100\n",
            "9/9 [==============================] - 0s 55ms/step - loss: 0.1685\n",
            "Epoch 89/100\n",
            "9/9 [==============================] - 0s 47ms/step - loss: 0.1665\n",
            "Epoch 90/100\n",
            "9/9 [==============================] - 2s 179ms/step - loss: 0.1647\n",
            "Epoch 91/100\n",
            "9/9 [==============================] - 6s 616ms/step - loss: 0.1598\n",
            "Epoch 92/100\n",
            "9/9 [==============================] - 0s 47ms/step - loss: 0.1597\n",
            "Epoch 93/100\n",
            "9/9 [==============================] - 1s 70ms/step - loss: 0.1556\n",
            "Epoch 94/100\n",
            "9/9 [==============================] - 0s 47ms/step - loss: 0.1606\n",
            "Epoch 95/100\n",
            "9/9 [==============================] - 0s 44ms/step - loss: 0.1588\n",
            "Epoch 96/100\n",
            "9/9 [==============================] - 0s 45ms/step - loss: 0.1573\n",
            "Epoch 97/100\n",
            "9/9 [==============================] - 1s 72ms/step - loss: 0.1611\n",
            "Epoch 98/100\n",
            "9/9 [==============================] - 0s 48ms/step - loss: 0.1505\n",
            "Epoch 99/100\n",
            "9/9 [==============================] - 1s 147ms/step - loss: 0.1451\n",
            "Epoch 100/100\n",
            "9/9 [==============================] - 1s 140ms/step - loss: 0.1429\n"
          ],
          "name": "stdout"
        }
      ]
    },
    {
      "cell_type": "code",
      "metadata": {
        "id": "miV_w0cxoLiM",
        "colab_type": "code",
        "colab": {
          "base_uri": "https://localhost:8080/",
          "height": 35
        },
        "outputId": "8704b4b4-08d9-4f42-c815-24ff2f195e9a"
      },
      "source": [
        "tf.train.latest_checkpoint(checkpoint_dir)"
      ],
      "execution_count": 74,
      "outputs": [
        {
          "output_type": "execute_result",
          "data": {
            "application/vnd.google.colaboratory.intrinsic+json": {
              "type": "string"
            },
            "text/plain": [
              "'./training_checkpoints/ckpt_100'"
            ]
          },
          "metadata": {
            "tags": []
          },
          "execution_count": 74
        }
      ]
    },
    {
      "cell_type": "code",
      "metadata": {
        "id": "Vsmc_cnJojc0",
        "colab_type": "code",
        "colab": {}
      },
      "source": [
        "model = build_model(vocab_size, embedding_dim, rnn_units, batch_size=1)\n",
        "\n",
        "model.load_weights(tf.train.latest_checkpoint(checkpoint_dir))\n",
        "\n",
        "model.build(tf.TensorShape([1, None]))"
      ],
      "execution_count": 75,
      "outputs": []
    },
    {
      "cell_type": "code",
      "metadata": {
        "id": "4JVoZnJ1olTu",
        "colab_type": "code",
        "colab": {
          "base_uri": "https://localhost:8080/",
          "height": 255
        },
        "outputId": "09ac8b67-6554-4584-e955-ea846bb074bf"
      },
      "source": [
        "model.summary()"
      ],
      "execution_count": 76,
      "outputs": [
        {
          "output_type": "stream",
          "text": [
            "Model: \"sequential_2\"\n",
            "_________________________________________________________________\n",
            "Layer (type)                 Output Shape              Param #   \n",
            "=================================================================\n",
            "embedding_2 (Embedding)      (1, None, 256)            24320     \n",
            "_________________________________________________________________\n",
            "gru_2 (GRU)                  (1, None, 1024)           3938304   \n",
            "_________________________________________________________________\n",
            "dense_2 (Dense)              (1, None, 95)             97375     \n",
            "=================================================================\n",
            "Total params: 4,059,999\n",
            "Trainable params: 4,059,999\n",
            "Non-trainable params: 0\n",
            "_________________________________________________________________\n"
          ],
          "name": "stdout"
        }
      ]
    },
    {
      "cell_type": "code",
      "metadata": {
        "id": "iw52PhNpom5h",
        "colab_type": "code",
        "colab": {}
      },
      "source": [
        "def generate_text(model, start_string):\n",
        "  # Evaluation step (generating text using the learned model)\n",
        "\n",
        "  # Number of characters to generate\n",
        "  num_generate = 1000\n",
        "\n",
        "  # Converting our start string to numbers (vectorizing)\n",
        "  input_eval = [char2idx[s] for s in start_string]\n",
        "  input_eval = tf.expand_dims(input_eval, 0)\n",
        "\n",
        "  # Empty string to store our results\n",
        "  text_generated = []\n",
        "\n",
        "  # Low temperatures results in more predictable text.\n",
        "  # Higher temperatures results in more surprising text.\n",
        "  # Experiment to find the best setting.\n",
        "  temperature = 1.0\n",
        "\n",
        "  # Here batch size == 1\n",
        "  model.reset_states()\n",
        "  for i in range(num_generate):\n",
        "      predictions = model(input_eval)\n",
        "      # remove the batch dimension\n",
        "      predictions = tf.squeeze(predictions, 0)\n",
        "\n",
        "      # using a categorical distribution to predict the character returned by the model\n",
        "      predictions = predictions / temperature\n",
        "      predicted_id = tf.random.categorical(predictions, num_samples=1)[-1,0].numpy()\n",
        "\n",
        "      # We pass the predicted character as the next input to the model\n",
        "      # along with the previous hidden state\n",
        "      input_eval = tf.expand_dims([predicted_id], 0)\n",
        "\n",
        "      text_generated.append(idx2char[predicted_id])\n",
        "\n",
        "  return (start_string + ''.join(text_generated))"
      ],
      "execution_count": 77,
      "outputs": []
    },
    {
      "cell_type": "code",
      "metadata": {
        "id": "O3eDa1RroqSI",
        "colab_type": "code",
        "colab": {
          "base_uri": "https://localhost:8080/",
          "height": 139
        },
        "outputId": "0f98be54-1ef6-4777-b71b-3a178eb01f72"
      },
      "source": [
        "print(generate_text(model, start_string=u\"Barry: \"))"
      ],
      "execution_count": 78,
      "outputs": [
        {
          "output_type": "stream",
          "text": [
            "Barry: revale_page_get\":false,\"feature_shared_channels_multi_org_mpim\":true,\"feature_select_on_tab\":true,\"feature_desktop_relse if (node.nodeName === 'IMG') {\n",
            "\t\t\t\tnodeSrc = node.src || node.currentSrc;\n",
            "\n",
            "\t\t\t\tgtmea6e;\n",
            "\tmar var endpoint_url = window.ts_endpoint_url || 'https://slack.com/beacon/timing';\n",
            "\t\t\tnew Image().src = endpoint_url + '?data=' + encoment] = timGom && date.getT${eor (!SOme {megser_dication\":true,\"feature_shared_channels_multi_email_fiixperiment_assiggments\":{},\"noz\":false,\"feature_grobals_update\":true,\"feature_sk_data_table_a11y\":false,\"feature_sk_loading_button_motions\":true,\"feature_sk_date_apdays_api\":true,\"feature_shared_channels_invite_livet_opt\":false,\"feature_builder_message_step_rich_text\":true,\"feature_select_on_tab\":true,\"feature_org_level_apps\":false,\"feature_apps_manage_permissions_scope_changes\":true,\"feature_rooms_join_api\":false,\"feature_locale_ru_RU\":false,\"feature_plus_menu_add_apps_link\":false,\"feature_shared_channels_emoji_delight\":false,\"feature_set_tz_acti\n"
          ],
          "name": "stdout"
        }
      ]
    },
    {
      "cell_type": "code",
      "metadata": {
        "id": "JSrUwFpUox1h",
        "colab_type": "code",
        "colab": {}
      },
      "source": [
        ""
      ],
      "execution_count": null,
      "outputs": []
    }
  ]
}